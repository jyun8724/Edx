{
    "metadata": {
        "kernelspec": {
            "name": "python3",
            "display_name": "Python 3 (ipykernel)",
            "language": "python"
        }
    },
    "nbformat": 4,
    "nbformat_minor": 4,
    "cells": [
        {
            "cell_type": "code",
            "execution_count": 38,
            "metadata": {},
            "outputs": [],
            "source": [
                "# import libraries\n",
                "\n",
                "import pandas as pd \n",
                "import numpy as np\n",
                "import matplotlib.pyplot as plt\n",
                "\n",
                "from sklearn.model_selection import train_test_split\n",
                "\n",
                "from sklearn.linear_model import LogisticRegression\n",
                "from sklearn.neighbors import KNeighborsClassifier \n",
                "\n",
                "import warnings \n",
                "warnings.filterwarnings('ignore')"
            ]
        },
        {
            "attachments": {},
            "cell_type": "markdown",
            "metadata": {},
            "source": [
                "### Read-in the dataset"
            ]
        },
        {
            "cell_type": "code",
            "execution_count": 39,
            "metadata": {},
            "outputs": [
                {
                    "name": "stdout",
                    "output_type": "stream",
                    "text": "(303, 15)\n"
                }
            ],
            "source": [
                "# Read the \"Heart.csv\" dataset and take a quick look\n",
                "heart = pd.read_csv('Heart.csv')\n",
                "\n",
                "# Force the response into a binary indicator:\n",
                "heart['AHD'] = 1*(heart['AHD'] == \"Yes\")\n",
                "\n",
                "print(heart.shape)"
            ]
        },
        {
            "cell_type": "code",
            "execution_count": 40,
            "metadata": {},
            "outputs": [
                {
                    "name": "stdout",
                    "output_type": "stream",
                    "text": "(227, 15) (76, 15)\n"
                }
            ],
            "source": [
                "# split into train and validation\n",
                "heart_train, heart_val = train_test_split(heart, train_size = 0.75, random_state = 109)\n",
                "\n",
                "print(heart_train.shape, heart_val.shape)"
            ]
        },
        {
            "attachments": {},
            "cell_type": "markdown",
            "metadata": {},
            "source": [
                "### $k$-NN model fitting\n",
                "\n",
                "Define and fit a $k$-NN classification model with $k=20$ to predict `AHD` from `Age`."
            ]
        },
        {
            "cell_type": "code",
            "execution_count": 41,
            "metadata": {},
            "outputs": [
                {
                    "data": {
                        "text/html": "\u003cstyle\u003e#sk-container-id-3 {\n  /* Definition of color scheme common for light and dark mode */\n  --sklearn-color-text: black;\n  --sklearn-color-line: gray;\n  /* Definition of color scheme for unfitted estimators */\n  --sklearn-color-unfitted-level-0: #fff5e6;\n  --sklearn-color-unfitted-level-1: #f6e4d2;\n  --sklearn-color-unfitted-level-2: #ffe0b3;\n  --sklearn-color-unfitted-level-3: chocolate;\n  /* Definition of color scheme for fitted estimators */\n  --sklearn-color-fitted-level-0: #f0f8ff;\n  --sklearn-color-fitted-level-1: #d4ebff;\n  --sklearn-color-fitted-level-2: #b3dbfd;\n  --sklearn-color-fitted-level-3: cornflowerblue;\n\n  /* Specific color for light theme */\n  --sklearn-color-text-on-default-background: var(--sg-text-color, var(--theme-code-foreground, var(--jp-content-font-color1, black)));\n  --sklearn-color-background: var(--sg-background-color, var(--theme-background, var(--jp-layout-color0, white)));\n  --sklearn-color-border-box: var(--sg-text-color, var(--theme-code-foreground, var(--jp-content-font-color1, black)));\n  --sklearn-color-icon: #696969;\n\n  @media (prefers-color-scheme: dark) {\n    /* Redefinition of color scheme for dark theme */\n    --sklearn-color-text-on-default-background: var(--sg-text-color, var(--theme-code-foreground, var(--jp-content-font-color1, white)));\n    --sklearn-color-background: var(--sg-background-color, var(--theme-background, var(--jp-layout-color0, #111)));\n    --sklearn-color-border-box: var(--sg-text-color, var(--theme-code-foreground, var(--jp-content-font-color1, white)));\n    --sklearn-color-icon: #878787;\n  }\n}\n\n#sk-container-id-3 {\n  color: var(--sklearn-color-text);\n}\n\n#sk-container-id-3 pre {\n  padding: 0;\n}\n\n#sk-container-id-3 input.sk-hidden--visually {\n  border: 0;\n  clip: rect(1px 1px 1px 1px);\n  clip: rect(1px, 1px, 1px, 1px);\n  height: 1px;\n  margin: -1px;\n  overflow: hidden;\n  padding: 0;\n  position: absolute;\n  width: 1px;\n}\n\n#sk-container-id-3 div.sk-dashed-wrapped {\n  border: 1px dashed var(--sklearn-color-line);\n  margin: 0 0.4em 0.5em 0.4em;\n  box-sizing: border-box;\n  padding-bottom: 0.4em;\n  background-color: var(--sklearn-color-background);\n}\n\n#sk-container-id-3 div.sk-container {\n  /* jupyter's `normalize.less` sets `[hidden] { display: none; }`\n     but bootstrap.min.css set `[hidden] { display: none !important; }`\n     so we also need the `!important` here to be able to override the\n     default hidden behavior on the sphinx rendered scikit-learn.org.\n     See: https://github.com/scikit-learn/scikit-learn/issues/21755 */\n  display: inline-block !important;\n  position: relative;\n}\n\n#sk-container-id-3 div.sk-text-repr-fallback {\n  display: none;\n}\n\ndiv.sk-parallel-item,\ndiv.sk-serial,\ndiv.sk-item {\n  /* draw centered vertical line to link estimators */\n  background-image: linear-gradient(var(--sklearn-color-text-on-default-background), var(--sklearn-color-text-on-default-background));\n  background-size: 2px 100%;\n  background-repeat: no-repeat;\n  background-position: center center;\n}\n\n/* Parallel-specific style estimator block */\n\n#sk-container-id-3 div.sk-parallel-item::after {\n  content: \"\";\n  width: 100%;\n  border-bottom: 2px solid var(--sklearn-color-text-on-default-background);\n  flex-grow: 1;\n}\n\n#sk-container-id-3 div.sk-parallel {\n  display: flex;\n  align-items: stretch;\n  justify-content: center;\n  background-color: var(--sklearn-color-background);\n  position: relative;\n}\n\n#sk-container-id-3 div.sk-parallel-item {\n  display: flex;\n  flex-direction: column;\n}\n\n#sk-container-id-3 div.sk-parallel-item:first-child::after {\n  align-self: flex-end;\n  width: 50%;\n}\n\n#sk-container-id-3 div.sk-parallel-item:last-child::after {\n  align-self: flex-start;\n  width: 50%;\n}\n\n#sk-container-id-3 div.sk-parallel-item:only-child::after {\n  width: 0;\n}\n\n/* Serial-specific style estimator block */\n\n#sk-container-id-3 div.sk-serial {\n  display: flex;\n  flex-direction: column;\n  align-items: center;\n  background-color: var(--sklearn-color-background);\n  padding-right: 1em;\n  padding-left: 1em;\n}\n\n\n/* Toggleable style: style used for estimator/Pipeline/ColumnTransformer box that is\nclickable and can be expanded/collapsed.\n- Pipeline and ColumnTransformer use this feature and define the default style\n- Estimators will overwrite some part of the style using the `sk-estimator` class\n*/\n\n/* Pipeline and ColumnTransformer style (default) */\n\n#sk-container-id-3 div.sk-toggleable {\n  /* Default theme specific background. It is overwritten whether we have a\n  specific estimator or a Pipeline/ColumnTransformer */\n  background-color: var(--sklearn-color-background);\n}\n\n/* Toggleable label */\n#sk-container-id-3 label.sk-toggleable__label {\n  cursor: pointer;\n  display: block;\n  width: 100%;\n  margin-bottom: 0;\n  padding: 0.5em;\n  box-sizing: border-box;\n  text-align: center;\n}\n\n#sk-container-id-3 label.sk-toggleable__label-arrow:before {\n  /* Arrow on the left of the label */\n  content: \"▸\";\n  float: left;\n  margin-right: 0.25em;\n  color: var(--sklearn-color-icon);\n}\n\n#sk-container-id-3 label.sk-toggleable__label-arrow:hover:before {\n  color: var(--sklearn-color-text);\n}\n\n/* Toggleable content - dropdown */\n\n#sk-container-id-3 div.sk-toggleable__content {\n  max-height: 0;\n  max-width: 0;\n  overflow: hidden;\n  text-align: left;\n  /* unfitted */\n  background-color: var(--sklearn-color-unfitted-level-0);\n}\n\n#sk-container-id-3 div.sk-toggleable__content.fitted {\n  /* fitted */\n  background-color: var(--sklearn-color-fitted-level-0);\n}\n\n#sk-container-id-3 div.sk-toggleable__content pre {\n  margin: 0.2em;\n  border-radius: 0.25em;\n  color: var(--sklearn-color-text);\n  /* unfitted */\n  background-color: var(--sklearn-color-unfitted-level-0);\n}\n\n#sk-container-id-3 div.sk-toggleable__content.fitted pre {\n  /* unfitted */\n  background-color: var(--sklearn-color-fitted-level-0);\n}\n\n#sk-container-id-3 input.sk-toggleable__control:checked~div.sk-toggleable__content {\n  /* Expand drop-down */\n  max-height: 200px;\n  max-width: 100%;\n  overflow: auto;\n}\n\n#sk-container-id-3 input.sk-toggleable__control:checked~label.sk-toggleable__label-arrow:before {\n  content: \"▾\";\n}\n\n/* Pipeline/ColumnTransformer-specific style */\n\n#sk-container-id-3 div.sk-label input.sk-toggleable__control:checked~label.sk-toggleable__label {\n  color: var(--sklearn-color-text);\n  background-color: var(--sklearn-color-unfitted-level-2);\n}\n\n#sk-container-id-3 div.sk-label.fitted input.sk-toggleable__control:checked~label.sk-toggleable__label {\n  background-color: var(--sklearn-color-fitted-level-2);\n}\n\n/* Estimator-specific style */\n\n/* Colorize estimator box */\n#sk-container-id-3 div.sk-estimator input.sk-toggleable__control:checked~label.sk-toggleable__label {\n  /* unfitted */\n  background-color: var(--sklearn-color-unfitted-level-2);\n}\n\n#sk-container-id-3 div.sk-estimator.fitted input.sk-toggleable__control:checked~label.sk-toggleable__label {\n  /* fitted */\n  background-color: var(--sklearn-color-fitted-level-2);\n}\n\n#sk-container-id-3 div.sk-label label.sk-toggleable__label,\n#sk-container-id-3 div.sk-label label {\n  /* The background is the default theme color */\n  color: var(--sklearn-color-text-on-default-background);\n}\n\n/* On hover, darken the color of the background */\n#sk-container-id-3 div.sk-label:hover label.sk-toggleable__label {\n  color: var(--sklearn-color-text);\n  background-color: var(--sklearn-color-unfitted-level-2);\n}\n\n/* Label box, darken color on hover, fitted */\n#sk-container-id-3 div.sk-label.fitted:hover label.sk-toggleable__label.fitted {\n  color: var(--sklearn-color-text);\n  background-color: var(--sklearn-color-fitted-level-2);\n}\n\n/* Estimator label */\n\n#sk-container-id-3 div.sk-label label {\n  font-family: monospace;\n  font-weight: bold;\n  display: inline-block;\n  line-height: 1.2em;\n}\n\n#sk-container-id-3 div.sk-label-container {\n  text-align: center;\n}\n\n/* Estimator-specific */\n#sk-container-id-3 div.sk-estimator {\n  font-family: monospace;\n  border: 1px dotted var(--sklearn-color-border-box);\n  border-radius: 0.25em;\n  box-sizing: border-box;\n  margin-bottom: 0.5em;\n  /* unfitted */\n  background-color: var(--sklearn-color-unfitted-level-0);\n}\n\n#sk-container-id-3 div.sk-estimator.fitted {\n  /* fitted */\n  background-color: var(--sklearn-color-fitted-level-0);\n}\n\n/* on hover */\n#sk-container-id-3 div.sk-estimator:hover {\n  /* unfitted */\n  background-color: var(--sklearn-color-unfitted-level-2);\n}\n\n#sk-container-id-3 div.sk-estimator.fitted:hover {\n  /* fitted */\n  background-color: var(--sklearn-color-fitted-level-2);\n}\n\n/* Specification for estimator info (e.g. \"i\" and \"?\") */\n\n/* Common style for \"i\" and \"?\" */\n\n.sk-estimator-doc-link,\na:link.sk-estimator-doc-link,\na:visited.sk-estimator-doc-link {\n  float: right;\n  font-size: smaller;\n  line-height: 1em;\n  font-family: monospace;\n  background-color: var(--sklearn-color-background);\n  border-radius: 1em;\n  height: 1em;\n  width: 1em;\n  text-decoration: none !important;\n  margin-left: 1ex;\n  /* unfitted */\n  border: var(--sklearn-color-unfitted-level-1) 1pt solid;\n  color: var(--sklearn-color-unfitted-level-1);\n}\n\n.sk-estimator-doc-link.fitted,\na:link.sk-estimator-doc-link.fitted,\na:visited.sk-estimator-doc-link.fitted {\n  /* fitted */\n  border: var(--sklearn-color-fitted-level-1) 1pt solid;\n  color: var(--sklearn-color-fitted-level-1);\n}\n\n/* On hover */\ndiv.sk-estimator:hover .sk-estimator-doc-link:hover,\n.sk-estimator-doc-link:hover,\ndiv.sk-label-container:hover .sk-estimator-doc-link:hover,\n.sk-estimator-doc-link:hover {\n  /* unfitted */\n  background-color: var(--sklearn-color-unfitted-level-3);\n  color: var(--sklearn-color-background);\n  text-decoration: none;\n}\n\ndiv.sk-estimator.fitted:hover .sk-estimator-doc-link.fitted:hover,\n.sk-estimator-doc-link.fitted:hover,\ndiv.sk-label-container:hover .sk-estimator-doc-link.fitted:hover,\n.sk-estimator-doc-link.fitted:hover {\n  /* fitted */\n  background-color: var(--sklearn-color-fitted-level-3);\n  color: var(--sklearn-color-background);\n  text-decoration: none;\n}\n\n/* Span, style for the box shown on hovering the info icon */\n.sk-estimator-doc-link span {\n  display: none;\n  z-index: 9999;\n  position: relative;\n  font-weight: normal;\n  right: .2ex;\n  padding: .5ex;\n  margin: .5ex;\n  width: min-content;\n  min-width: 20ex;\n  max-width: 50ex;\n  color: var(--sklearn-color-text);\n  box-shadow: 2pt 2pt 4pt #999;\n  /* unfitted */\n  background: var(--sklearn-color-unfitted-level-0);\n  border: .5pt solid var(--sklearn-color-unfitted-level-3);\n}\n\n.sk-estimator-doc-link.fitted span {\n  /* fitted */\n  background: var(--sklearn-color-fitted-level-0);\n  border: var(--sklearn-color-fitted-level-3);\n}\n\n.sk-estimator-doc-link:hover span {\n  display: block;\n}\n\n/* \"?\"-specific style due to the `\u003ca\u003e` HTML tag */\n\n#sk-container-id-3 a.estimator_doc_link {\n  float: right;\n  font-size: 1rem;\n  line-height: 1em;\n  font-family: monospace;\n  background-color: var(--sklearn-color-background);\n  border-radius: 1rem;\n  height: 1rem;\n  width: 1rem;\n  text-decoration: none;\n  /* unfitted */\n  color: var(--sklearn-color-unfitted-level-1);\n  border: var(--sklearn-color-unfitted-level-1) 1pt solid;\n}\n\n#sk-container-id-3 a.estimator_doc_link.fitted {\n  /* fitted */\n  border: var(--sklearn-color-fitted-level-1) 1pt solid;\n  color: var(--sklearn-color-fitted-level-1);\n}\n\n/* On hover */\n#sk-container-id-3 a.estimator_doc_link:hover {\n  /* unfitted */\n  background-color: var(--sklearn-color-unfitted-level-3);\n  color: var(--sklearn-color-background);\n  text-decoration: none;\n}\n\n#sk-container-id-3 a.estimator_doc_link.fitted:hover {\n  /* fitted */\n  background-color: var(--sklearn-color-fitted-level-3);\n}\n\u003c/style\u003e\u003cdiv id=\"sk-container-id-3\" class=\"sk-top-container\"\u003e\u003cdiv class=\"sk-text-repr-fallback\"\u003e\u003cpre\u003eKNeighborsClassifier(n_neighbors=20)\u003c/pre\u003e\u003cb\u003eIn a Jupyter environment, please rerun this cell to show the HTML representation or trust the notebook. \u003cbr /\u003eOn GitHub, the HTML representation is unable to render, please try loading this page with nbviewer.org.\u003c/b\u003e\u003c/div\u003e\u003cdiv class=\"sk-container\" hidden\u003e\u003cdiv class=\"sk-item\"\u003e\u003cdiv class=\"sk-estimator fitted sk-toggleable\"\u003e\u003cinput class=\"sk-toggleable__control sk-hidden--visually\" id=\"sk-estimator-id-3\" type=\"checkbox\" checked\u003e\u003clabel for=\"sk-estimator-id-3\" class=\"sk-toggleable__label fitted sk-toggleable__label-arrow fitted\"\u003e\u0026nbsp;\u0026nbsp;KNeighborsClassifier\u003ca class=\"sk-estimator-doc-link fitted\" rel=\"noreferrer\" target=\"_blank\" href=\"https://scikit-learn.org/1.5/modules/generated/sklearn.neighbors.KNeighborsClassifier.html\"\u003e?\u003cspan\u003eDocumentation for KNeighborsClassifier\u003c/span\u003e\u003c/a\u003e\u003cspan class=\"sk-estimator-doc-link fitted\"\u003ei\u003cspan\u003eFitted\u003c/span\u003e\u003c/span\u003e\u003c/label\u003e\u003cdiv class=\"sk-toggleable__content fitted\"\u003e\u003cpre\u003eKNeighborsClassifier(n_neighbors=20)\u003c/pre\u003e\u003c/div\u003e \u003c/div\u003e\u003c/div\u003e\u003c/div\u003e\u003c/div\u003e",
                        "text/plain": "KNeighborsClassifier(n_neighbors=20)"
                    },
                    "execution_count": 41,
                    "metadata": {},
                    "output_type": "execute_result"
                }
            ],
            "source": [
                "# select variables for model estimation: be careful of format \n",
                "# (aka, single or double square brackets)\n",
                "x_train = heart_train[['Age']]\n",
                "y_train = heart_train['AHD']\n",
                "\n",
                "# define the model\n",
                "knn20 = KNeighborsClassifier(n_neighbors = 20)\n",
                "\n",
                "# fit to the data\n",
                "knn20.fit(x_train, y_train)\n",
                ""
            ]
        },
        {
            "attachments": {},
            "cell_type": "markdown",
            "metadata": {},
            "source": [
                "### $k$-NN prediction\n",
                "\n",
                "Perform some simple predictions: both the pure classifications and the probability estimates."
            ]
        },
        {
            "cell_type": "code",
            "execution_count": 42,
            "metadata": {},
            "outputs": [
                {
                    "name": "stdout",
                    "output_type": "stream",
                    "text": "[0 1 1 1 0 1 1 0 1]\n[[0.75 0.25]\n [0.4  0.6 ]\n [0.25 0.75]\n [0.3  0.7 ]\n [0.65 0.35]\n [0.45 0.55]\n [0.35 0.65]\n [0.7  0.3 ]\n [0.35 0.65]]\n"
                }
            ],
            "source": [
                "### edTest(test_knn) ###\n",
                "\n",
                "# there are two types of predictions in classification models in sklearn\n",
                "# model.predict for pure classifications, and model.predict_proba for probabilities\n",
                "\n",
                "# create the predictions based on the train data\n",
                "yhat20_class = knn20.predict(x_train)\n",
                "yhat20_prob = knn20.predict_proba(x_train)\n",
                "\n",
                "# print out the first 10 predictions for the actual data\n",
                "print(yhat20_class[1:10])\n",
                "print(yhat20_prob[1:10])"
            ]
        },
        {
            "attachments": {},
            "cell_type": "markdown",
            "metadata": {},
            "source": [
                "### ⏸ Take a moment to consider your results so far\n",
                "\n",
                "* What do you notice about the probability estimates?  \n",
                "* Which 'column' is which in `yhat20_prob`?  \n",
                "* How could you manually create `yhat20_class` from `yhat20_prob`? \n",
                ""
            ]
        },
        {
            "attachments": {},
            "cell_type": "markdown",
            "metadata": {},
            "source": [
                "## Simple logistic regression model fitting\n",
                "\n",
                "Define and fit a simple logistic model to predict `AHD` from `Age`."
            ]
        },
        {
            "cell_type": "code",
            "execution_count": 43,
            "metadata": {},
            "outputs": [
                {
                    "name": "stdout",
                    "output_type": "stream",
                    "text": "Logistic Regression Estimated Betas (B0,B1): [[0.05933142]] [[0.05933142]]\n"
                }
            ],
            "source": [
                "### edTest(test_logit) ###\n",
                "# Create a logistic regression model, with None as the penalty\n",
                "\n",
                "logit1 = LogisticRegression(penalty=None, max_iter = 1000)\n",
                "\n",
                "#Fit the model using the training set\n",
                "\n",
                "logit1.fit(x_train,y_train)\n",
                "\n",
                "# Get the coefficient estimates\n",
                "\n",
                "print(\"Logistic Regression Estimated Betas (B0,B1):\",logit1.coef_,logit1.coef_)\n",
                ""
            ]
        },
        {
            "attachments": {},
            "cell_type": "markdown",
            "metadata": {},
            "source": [
                "### Interpret the Coefficient Estimates"
            ]
        },
        {
            "attachments": {},
            "cell_type": "markdown",
            "metadata": {},
            "source": [
                "Recall the logistic regression formula.\n",
                "\n",
                "$$ \\ln\\left(  \\frac{P(Y=1)}{1-P(Y=1)} \\right) = \\hat{\\beta}_0 + \\hat{\\beta}_1 X$$\n",
                "\n",
                "Use this formula and your coefficients from above to answer the following: What is the estimated odds that a 60 year old will have AHD in the ICU?  What is the probability?"
            ]
        },
        {
            "cell_type": "code",
            "execution_count": 44,
            "metadata": {},
            "outputs": [
                {
                    "data": {
                        "text/plain": "array([[0.44183498, 0.55816502]])"
                    },
                    "execution_count": 44,
                    "metadata": {},
                    "output_type": "execute_result"
                }
            ],
            "source": [
                "# Confirm the probability calculation you made above using logit1logit1.predict_proba()\n",
                "# predict for one observation where age = 60.  Hint: double brackets is one way to do it\n",
                "\n",
                "logit1.predict_proba([[60]])"
            ]
        },
        {
            "attachments": {},
            "cell_type": "markdown",
            "metadata": {},
            "source": [
                "### $k$-NN and logistic accuracy"
            ]
        },
        {
            "cell_type": "code",
            "execution_count": 45,
            "metadata": {},
            "outputs": [
                {
                    "name": "stdout",
                    "output_type": "stream",
                    "text": "k-NN Train \u0026 Validation Accuracy: 0.6563876651982379 0.5921052631578947\nLogisitic Train \u0026 Validation Accuracy: 0.6387665198237885 0.6052631578947368\n"
                }
            ],
            "source": [
                "### edTest(test_accuracy) ###\n",
                "\n",
                "# Define the equivalent validation variables from `heart_val`\n",
                "\n",
                "x_val = heart_val[['Age']]\n",
                "y_val = heart_val['AHD']\n",
                "\n",
                "# Compute the training \u0026 validation accuracy using the estimator.score() function\n",
                "\n",
                "knn20_train_accuracy = knn20.score(x_train, y_train)\n",
                "knn20_val_accuracy = knn20.score(x_val, y_val)\n",
                "\n",
                "logit_train_accuracy = logit1.score(x_train,y_train)\n",
                "logit_val_accuracy = logit1.score(x_val,y_val)\n",
                "\n",
                "# Print the accuracies below\n",
                "\n",
                "print(\"k-NN Train \u0026 Validation Accuracy:\", knn20_train_accuracy, knn20_val_accuracy)\n",
                "print(\"Logisitic Train \u0026 Validation Accuracy:\", logit_train_accuracy, logit_val_accuracy)\n",
                "\n",
                "\n",
                ""
            ]
        },
        {
            "attachments": {},
            "cell_type": "markdown",
            "metadata": {},
            "source": [
                "### Plot the predictions"
            ]
        },
        {
            "attachments": {},
            "cell_type": "markdown",
            "metadata": {},
            "source": [
                "Use a linspace to create a dummy x variable for plotting for the two different models.  Here we plot the train and validation data separately, and the 4 different types of predictions (2 for each model: pure classification and probability estimation)"
            ]
        },
        {
            "cell_type": "code",
            "execution_count": 47,
            "metadata": {},
            "outputs": [
                {
                    "ename": "ValueError",
                    "evalue": "Expected 2D array, got 1D array instead:\narray=[19.         19.34170854 19.68341709 20.02512563 20.36683417 20.70854271\n 21.05025126 21.3919598  21.73366834 22.07537688 22.41708543 22.75879397\n 23.10050251 23.44221106 23.7839196  24.12562814 24.46733668 24.80904523\n 25.15075377 25.49246231 25.83417085 26.1758794  26.51758794 26.85929648\n 27.20100503 27.54271357 27.88442211 28.22613065 28.5678392  28.90954774\n 29.25125628 29.59296482 29.93467337 30.27638191 30.61809045 30.95979899\n 31.30150754 31.64321608 31.98492462 32.32663317 32.66834171 33.01005025\n 33.35175879 33.69346734 34.03517588 34.37688442 34.71859296 35.06030151\n 35.40201005 35.74371859 36.08542714 36.42713568 36.76884422 37.11055276\n 37.45226131 37.79396985 38.13567839 38.47738693 38.81909548 39.16080402\n 39.50251256 39.84422111 40.18592965 40.52763819 40.86934673 41.21105528\n 41.55276382 41.89447236 42.2361809  42.57788945 42.91959799 43.26130653\n 43.60301508 43.94472362 44.28643216 44.6281407  44.96984925 45.31155779\n 45.65326633 45.99497487 46.33668342 46.67839196 47.0201005  47.36180905\n 47.70351759 48.04522613 48.38693467 48.72864322 49.07035176 49.4120603\n 49.75376884 50.09547739 50.43718593 50.77889447 51.12060302 51.46231156\n 51.8040201  52.14572864 52.48743719 52.82914573 53.17085427 53.51256281\n 53.85427136 54.1959799  54.53768844 54.87939698 55.22110553 55.56281407\n 55.90452261 56.24623116 56.5879397  56.92964824 57.27135678 57.61306533\n 57.95477387 58.29648241 58.63819095 58.9798995  59.32160804 59.66331658\n 60.00502513 60.34673367 60.68844221 61.03015075 61.3718593  61.71356784\n 62.05527638 62.39698492 62.73869347 63.08040201 63.42211055 63.7638191\n 64.10552764 64.44723618 64.78894472 65.13065327 65.47236181 65.81407035\n 66.15577889 66.49748744 66.83919598 67.18090452 67.52261307 67.86432161\n 68.20603015 68.54773869 68.88944724 69.23115578 69.57286432 69.91457286\n 70.25628141 70.59798995 70.93969849 71.28140704 71.62311558 71.96482412\n 72.30653266 72.64824121 72.98994975 73.33165829 73.67336683 74.01507538\n 74.35678392 74.69849246 75.04020101 75.38190955 75.72361809 76.06532663\n 76.40703518 76.74874372 77.09045226 77.4321608  77.77386935 78.11557789\n 78.45728643 78.79899497 79.14070352 79.48241206 79.8241206  80.16582915\n 80.50753769 80.84924623 81.19095477 81.53266332 81.87437186 82.2160804\n 82.55778894 82.89949749 83.24120603 83.58291457 83.92462312 84.26633166\n 84.6080402  84.94974874 85.29145729 85.63316583 85.97487437 86.31658291\n 86.65829146 87.        ].\nReshape your data either using array.reshape(-1, 1) if your data has a single feature or array.reshape(1, -1) if it contains a single sample.",
                    "output_type": "error",
                    "traceback": [
                        "\u001b[0;31m---------------------------------------------------------------------------\u001b[0m",
                        "\u001b[0;31mValueError\u001b[0m                                Traceback (most recent call last)",
                        "Cell \u001b[0;32mIn[47], line 6\u001b[0m\n\u001b[1;32m      2\u001b[0m x \u001b[38;5;241m=\u001b[39m np\u001b[38;5;241m.\u001b[39mlinspace(np\u001b[38;5;241m.\u001b[39mmin(heart[[\u001b[38;5;124m'\u001b[39m\u001b[38;5;124mAge\u001b[39m\u001b[38;5;124m'\u001b[39m]])\u001b[38;5;241m-\u001b[39m\u001b[38;5;241m10\u001b[39m, np\u001b[38;5;241m.\u001b[39mmax(heart[[\u001b[38;5;124m'\u001b[39m\u001b[38;5;124mAge\u001b[39m\u001b[38;5;124m'\u001b[39m]])\u001b[38;5;241m+\u001b[39m\u001b[38;5;241m10\u001b[39m,\u001b[38;5;241m200\u001b[39m)\n\u001b[1;32m      5\u001b[0m \u001b[38;5;66;03m# be careful in pulling off only the correct column of the probability calculations: use `[:,1]`\u001b[39;00m\n\u001b[0;32m----\u003e 6\u001b[0m yhat_class_knn20 \u001b[38;5;241m=\u001b[39m \u001b[43mknn20\u001b[49m\u001b[38;5;241;43m.\u001b[39;49m\u001b[43mpredict\u001b[49m\u001b[43m(\u001b[49m\u001b[43mx\u001b[49m\u001b[43m)\u001b[49m\n\u001b[1;32m      7\u001b[0m yhat_prob_knn20 \u001b[38;5;241m=\u001b[39m knn20\u001b[38;5;241m.\u001b[39mpredict_proba(x)\n\u001b[1;32m      9\u001b[0m yhat_class_logit \u001b[38;5;241m=\u001b[39m logit1\u001b[38;5;241m.\u001b[39mpredict(x)\n",
                        "File \u001b[0;32m/usr/lib/python3.12/site-packages/sklearn/neighbors/_classification.py:271\u001b[0m, in \u001b[0;36mKNeighborsClassifier.predict\u001b[0;34m(self, X)\u001b[0m\n\u001b[1;32m    268\u001b[0m         \u001b[38;5;28;01mreturn\u001b[39;00m \u001b[38;5;28mself\u001b[39m\u001b[38;5;241m.\u001b[39mclasses_[np\u001b[38;5;241m.\u001b[39margmax(probabilities, axis\u001b[38;5;241m=\u001b[39m\u001b[38;5;241m1\u001b[39m)]\n\u001b[1;32m    269\u001b[0m     \u001b[38;5;66;03m# In that case, we do not need the distances to perform\u001b[39;00m\n\u001b[1;32m    270\u001b[0m     \u001b[38;5;66;03m# the weighting so we do not compute them.\u001b[39;00m\n\u001b[0;32m--\u003e 271\u001b[0m     neigh_ind \u001b[38;5;241m=\u001b[39m \u001b[38;5;28;43mself\u001b[39;49m\u001b[38;5;241;43m.\u001b[39;49m\u001b[43mkneighbors\u001b[49m\u001b[43m(\u001b[49m\u001b[43mX\u001b[49m\u001b[43m,\u001b[49m\u001b[43m \u001b[49m\u001b[43mreturn_distance\u001b[49m\u001b[38;5;241;43m=\u001b[39;49m\u001b[38;5;28;43;01mFalse\u001b[39;49;00m\u001b[43m)\u001b[49m\n\u001b[1;32m    272\u001b[0m     neigh_dist \u001b[38;5;241m=\u001b[39m \u001b[38;5;28;01mNone\u001b[39;00m\n\u001b[1;32m    273\u001b[0m \u001b[38;5;28;01melse\u001b[39;00m:\n",
                        "File \u001b[0;32m/usr/lib/python3.12/site-packages/sklearn/neighbors/_base.py:825\u001b[0m, in \u001b[0;36mKNeighborsMixin.kneighbors\u001b[0;34m(self, X, n_neighbors, return_distance)\u001b[0m\n\u001b[1;32m    823\u001b[0m         X \u001b[38;5;241m=\u001b[39m _check_precomputed(X)\n\u001b[1;32m    824\u001b[0m     \u001b[38;5;28;01melse\u001b[39;00m:\n\u001b[0;32m--\u003e 825\u001b[0m         X \u001b[38;5;241m=\u001b[39m \u001b[38;5;28;43mself\u001b[39;49m\u001b[38;5;241;43m.\u001b[39;49m\u001b[43m_validate_data\u001b[49m\u001b[43m(\u001b[49m\u001b[43mX\u001b[49m\u001b[43m,\u001b[49m\u001b[43m \u001b[49m\u001b[43maccept_sparse\u001b[49m\u001b[38;5;241;43m=\u001b[39;49m\u001b[38;5;124;43m\"\u001b[39;49m\u001b[38;5;124;43mcsr\u001b[39;49m\u001b[38;5;124;43m\"\u001b[39;49m\u001b[43m,\u001b[49m\u001b[43m \u001b[49m\u001b[43mreset\u001b[49m\u001b[38;5;241;43m=\u001b[39;49m\u001b[38;5;28;43;01mFalse\u001b[39;49;00m\u001b[43m,\u001b[49m\u001b[43m \u001b[49m\u001b[43morder\u001b[49m\u001b[38;5;241;43m=\u001b[39;49m\u001b[38;5;124;43m\"\u001b[39;49m\u001b[38;5;124;43mC\u001b[39;49m\u001b[38;5;124;43m\"\u001b[39;49m\u001b[43m)\u001b[49m\n\u001b[1;32m    827\u001b[0m n_samples_fit \u001b[38;5;241m=\u001b[39m \u001b[38;5;28mself\u001b[39m\u001b[38;5;241m.\u001b[39mn_samples_fit_\n\u001b[1;32m    828\u001b[0m \u001b[38;5;28;01mif\u001b[39;00m n_neighbors \u001b[38;5;241m\u003e\u001b[39m n_samples_fit:\n",
                        "File \u001b[0;32m/usr/lib/python3.12/site-packages/sklearn/base.py:633\u001b[0m, in \u001b[0;36mBaseEstimator._validate_data\u001b[0;34m(self, X, y, reset, validate_separately, cast_to_ndarray, **check_params)\u001b[0m\n\u001b[1;32m    631\u001b[0m         out \u001b[38;5;241m=\u001b[39m X, y\n\u001b[1;32m    632\u001b[0m \u001b[38;5;28;01melif\u001b[39;00m \u001b[38;5;129;01mnot\u001b[39;00m no_val_X \u001b[38;5;129;01mand\u001b[39;00m no_val_y:\n\u001b[0;32m--\u003e 633\u001b[0m     out \u001b[38;5;241m=\u001b[39m \u001b[43mcheck_array\u001b[49m\u001b[43m(\u001b[49m\u001b[43mX\u001b[49m\u001b[43m,\u001b[49m\u001b[43m \u001b[49m\u001b[43minput_name\u001b[49m\u001b[38;5;241;43m=\u001b[39;49m\u001b[38;5;124;43m\"\u001b[39;49m\u001b[38;5;124;43mX\u001b[39;49m\u001b[38;5;124;43m\"\u001b[39;49m\u001b[43m,\u001b[49m\u001b[43m \u001b[49m\u001b[38;5;241;43m*\u001b[39;49m\u001b[38;5;241;43m*\u001b[39;49m\u001b[43mcheck_params\u001b[49m\u001b[43m)\u001b[49m\n\u001b[1;32m    634\u001b[0m \u001b[38;5;28;01melif\u001b[39;00m no_val_X \u001b[38;5;129;01mand\u001b[39;00m \u001b[38;5;129;01mnot\u001b[39;00m no_val_y:\n\u001b[1;32m    635\u001b[0m     out \u001b[38;5;241m=\u001b[39m _check_y(y, \u001b[38;5;241m*\u001b[39m\u001b[38;5;241m*\u001b[39mcheck_params)\n",
                        "File \u001b[0;32m/usr/lib/python3.12/site-packages/sklearn/utils/validation.py:1050\u001b[0m, in \u001b[0;36mcheck_array\u001b[0;34m(array, accept_sparse, accept_large_sparse, dtype, order, copy, force_writeable, force_all_finite, ensure_2d, allow_nd, ensure_min_samples, ensure_min_features, estimator, input_name)\u001b[0m\n\u001b[1;32m   1043\u001b[0m         \u001b[38;5;28;01melse\u001b[39;00m:\n\u001b[1;32m   1044\u001b[0m             msg \u001b[38;5;241m=\u001b[39m (\n\u001b[1;32m   1045\u001b[0m                 \u001b[38;5;124mf\u001b[39m\u001b[38;5;124m\"\u001b[39m\u001b[38;5;124mExpected 2D array, got 1D array instead:\u001b[39m\u001b[38;5;130;01m\\n\u001b[39;00m\u001b[38;5;124marray=\u001b[39m\u001b[38;5;132;01m{\u001b[39;00marray\u001b[38;5;132;01m}\u001b[39;00m\u001b[38;5;124m.\u001b[39m\u001b[38;5;130;01m\\n\u001b[39;00m\u001b[38;5;124m\"\u001b[39m\n\u001b[1;32m   1046\u001b[0m                 \u001b[38;5;124m\"\u001b[39m\u001b[38;5;124mReshape your data either using array.reshape(-1, 1) if \u001b[39m\u001b[38;5;124m\"\u001b[39m\n\u001b[1;32m   1047\u001b[0m                 \u001b[38;5;124m\"\u001b[39m\u001b[38;5;124myour data has a single feature or array.reshape(1, -1) \u001b[39m\u001b[38;5;124m\"\u001b[39m\n\u001b[1;32m   1048\u001b[0m                 \u001b[38;5;124m\"\u001b[39m\u001b[38;5;124mif it contains a single sample.\u001b[39m\u001b[38;5;124m\"\u001b[39m\n\u001b[1;32m   1049\u001b[0m             )\n\u001b[0;32m-\u003e 1050\u001b[0m         \u001b[38;5;28;01mraise\u001b[39;00m \u001b[38;5;167;01mValueError\u001b[39;00m(msg)\n\u001b[1;32m   1052\u001b[0m \u001b[38;5;28;01mif\u001b[39;00m dtype_numeric \u001b[38;5;129;01mand\u001b[39;00m \u001b[38;5;28mhasattr\u001b[39m(array\u001b[38;5;241m.\u001b[39mdtype, \u001b[38;5;124m\"\u001b[39m\u001b[38;5;124mkind\u001b[39m\u001b[38;5;124m\"\u001b[39m) \u001b[38;5;129;01mand\u001b[39;00m array\u001b[38;5;241m.\u001b[39mdtype\u001b[38;5;241m.\u001b[39mkind \u001b[38;5;129;01min\u001b[39;00m \u001b[38;5;124m\"\u001b[39m\u001b[38;5;124mUSV\u001b[39m\u001b[38;5;124m\"\u001b[39m:\n\u001b[1;32m   1053\u001b[0m     \u001b[38;5;28;01mraise\u001b[39;00m \u001b[38;5;167;01mValueError\u001b[39;00m(\n\u001b[1;32m   1054\u001b[0m         \u001b[38;5;124m\"\u001b[39m\u001b[38;5;124mdtype=\u001b[39m\u001b[38;5;124m'\u001b[39m\u001b[38;5;124mnumeric\u001b[39m\u001b[38;5;124m'\u001b[39m\u001b[38;5;124m is not compatible with arrays of bytes/strings.\u001b[39m\u001b[38;5;124m\"\u001b[39m\n\u001b[1;32m   1055\u001b[0m         \u001b[38;5;124m\"\u001b[39m\u001b[38;5;124mConvert your data to numeric values explicitly instead.\u001b[39m\u001b[38;5;124m\"\u001b[39m\n\u001b[1;32m   1056\u001b[0m     )\n",
                        "\u001b[0;31mValueError\u001b[0m: Expected 2D array, got 1D array instead:\narray=[19.         19.34170854 19.68341709 20.02512563 20.36683417 20.70854271\n 21.05025126 21.3919598  21.73366834 22.07537688 22.41708543 22.75879397\n 23.10050251 23.44221106 23.7839196  24.12562814 24.46733668 24.80904523\n 25.15075377 25.49246231 25.83417085 26.1758794  26.51758794 26.85929648\n 27.20100503 27.54271357 27.88442211 28.22613065 28.5678392  28.90954774\n 29.25125628 29.59296482 29.93467337 30.27638191 30.61809045 30.95979899\n 31.30150754 31.64321608 31.98492462 32.32663317 32.66834171 33.01005025\n 33.35175879 33.69346734 34.03517588 34.37688442 34.71859296 35.06030151\n 35.40201005 35.74371859 36.08542714 36.42713568 36.76884422 37.11055276\n 37.45226131 37.79396985 38.13567839 38.47738693 38.81909548 39.16080402\n 39.50251256 39.84422111 40.18592965 40.52763819 40.86934673 41.21105528\n 41.55276382 41.89447236 42.2361809  42.57788945 42.91959799 43.26130653\n 43.60301508 43.94472362 44.28643216 44.6281407  44.96984925 45.31155779\n 45.65326633 45.99497487 46.33668342 46.67839196 47.0201005  47.36180905\n 47.70351759 48.04522613 48.38693467 48.72864322 49.07035176 49.4120603\n 49.75376884 50.09547739 50.43718593 50.77889447 51.12060302 51.46231156\n 51.8040201  52.14572864 52.48743719 52.82914573 53.17085427 53.51256281\n 53.85427136 54.1959799  54.53768844 54.87939698 55.22110553 55.56281407\n 55.90452261 56.24623116 56.5879397  56.92964824 57.27135678 57.61306533\n 57.95477387 58.29648241 58.63819095 58.9798995  59.32160804 59.66331658\n 60.00502513 60.34673367 60.68844221 61.03015075 61.3718593  61.71356784\n 62.05527638 62.39698492 62.73869347 63.08040201 63.42211055 63.7638191\n 64.10552764 64.44723618 64.78894472 65.13065327 65.47236181 65.81407035\n 66.15577889 66.49748744 66.83919598 67.18090452 67.52261307 67.86432161\n 68.20603015 68.54773869 68.88944724 69.23115578 69.57286432 69.91457286\n 70.25628141 70.59798995 70.93969849 71.28140704 71.62311558 71.96482412\n 72.30653266 72.64824121 72.98994975 73.33165829 73.67336683 74.01507538\n 74.35678392 74.69849246 75.04020101 75.38190955 75.72361809 76.06532663\n 76.40703518 76.74874372 77.09045226 77.4321608  77.77386935 78.11557789\n 78.45728643 78.79899497 79.14070352 79.48241206 79.8241206  80.16582915\n 80.50753769 80.84924623 81.19095477 81.53266332 81.87437186 82.2160804\n 82.55778894 82.89949749 83.24120603 83.58291457 83.92462312 84.26633166\n 84.6080402  84.94974874 85.29145729 85.63316583 85.97487437 86.31658291\n 86.65829146 87.        ].\nReshape your data either using array.reshape(-1, 1) if your data has a single feature or array.reshape(1, -1) if it contains a single sample."
                    ]
                }
            ],
            "source": [
                "\n",
                "# set-up the dummy x for plotting: we extend it a little bit beyond the range of observed values \n",
                "x = np.linspace(np.min(heart[['Age']])-10, np.max(heart[['Age']])+10,200)\n",
                "\n",
                "\n",
                "# be careful in pulling off only the correct column of the probability calculations: use `[:,1]`\n",
                "yhat_class_knn20 = knn20.predict(x)\n",
                "yhat_prob_knn20 = knn20.predict_proba(x)\n",
                "\n",
                "yhat_class_logit = logit1.predict(x)\n",
                "yhat_prob_logit = logit1.predict_proba(x)\n",
                "\n",
                "# plot the observed data.  Note: we offset the validation points to make them more clearly differentiated from train\n",
                "plt.plot(x_train, y_train, 'o' ,alpha=0.1, label='Train Data')\n",
                "plt.plot(x_val, 0.94*y_val+0.03, 'o' ,alpha=0.1, label='Validation Data')\n",
                "\n",
                "# plot the predictions\n",
                "plt.plot(x, yhat_class_knn20, label='knn20 Classifications')\n",
                "plt.plot(x, yhat_prob_knn20, label='knn20 Probabilities')\n",
                "plt.plot(x, yhat_class_logit, label='logit1 Classifications')\n",
                "plt.plot(x, yhat_prob_logit, label = 'logit1 probability')\n",
                "\n",
                "# put the lower-left part of the legend 5% to the right along the x-axis, and 45% up along the y-axis\n",
                "plt.legend(loc=(0.05,0.45))\n",
                "\n",
                "# Don't forget your axis labels!\n",
                "plt.xlabel(\"Age\")\n",
                "plt.ylabel(\"Heart disease (AHD)\")\n",
                "\n",
                "plt.show()\n",
                ""
            ]
        },
        {
            "attachments": {},
            "cell_type": "markdown",
            "metadata": {},
            "source": [
                "### ⏸ Post Exercise Questions\n",
                "\n",
                "1. Describe the estimated associations between AHD and Age based on these two models."
            ]
        },
        {
            "attachments": {},
            "cell_type": "markdown",
            "metadata": {},
            "source": [
                "2. Which model apears to be more overfit to the training data?  How do you know?  How can this be resolved?"
            ]
        },
        {
            "attachments": {},
            "cell_type": "markdown",
            "metadata": {},
            "source": [
                "3. How could you engineer features for the logistic regression model so that the association between AHD and Age resembles the general trend in the knn20 model more similarly?"
            ]
        },
        {
            "attachments": {},
            "cell_type": "markdown",
            "metadata": {},
            "source": [
                "4. Refit the models above to predict `AHD` from 3 predictors ['MaxHR','Age','Sex'] (Feel free to also play around with $k$).\n",
                "Investigate the associations in each of the two models and evaluate the predictive accuracy of each of these models"
            ]
        }
    ]
}
