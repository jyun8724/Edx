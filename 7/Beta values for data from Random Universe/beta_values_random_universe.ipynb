{
    "metadata": {
        "kernelspec": {
            "name": "python3",
            "display_name": "Python 3 (ipykernel)",
            "language": "python"
        }
    },
    "nbformat": 4,
    "nbformat_minor": 4,
    "cells": [
        {
            "cell_type": "code",
            "execution_count": 1,
            "metadata": {},
            "outputs": [],
            "source": [
                "# Import necessary libraries\n",
                "import numpy as np\n",
                "import pandas as pd\n",
                "import matplotlib.pyplot as plt\n",
                "from randomuniverse import RandomUniverse\n",
                "%matplotlib inline\n",
                ""
            ]
        },
        {
            "cell_type": "code",
            "execution_count": 2,
            "metadata": {},
            "outputs": [
                {
                    "data": {
                        "text/html": "\u003cdiv\u003e\n\u003cstyle scoped\u003e\n    .dataframe tbody tr th:only-of-type {\n        vertical-align: middle;\n    }\n\n    .dataframe tbody tr th {\n        vertical-align: top;\n    }\n\n    .dataframe thead th {\n        text-align: right;\n    }\n\u003c/style\u003e\n\u003ctable border=\"1\" class=\"dataframe\"\u003e\n  \u003cthead\u003e\n    \u003ctr style=\"text-align: right;\"\u003e\n      \u003cth\u003e\u003c/th\u003e\n      \u003cth\u003etv\u003c/th\u003e\n      \u003cth\u003esales\u003c/th\u003e\n    \u003c/tr\u003e\n  \u003c/thead\u003e\n  \u003ctbody\u003e\n    \u003ctr\u003e\n      \u003cth\u003e0\u003c/th\u003e\n      \u003ctd\u003e230.1\u003c/td\u003e\n      \u003ctd\u003e465.26\u003c/td\u003e\n    \u003c/tr\u003e\n    \u003ctr\u003e\n      \u003cth\u003e1\u003c/th\u003e\n      \u003ctd\u003e44.5\u003c/td\u003e\n      \u003ctd\u003e218.95\u003c/td\u003e\n    \u003c/tr\u003e\n    \u003ctr\u003e\n      \u003cth\u003e2\u003c/th\u003e\n      \u003ctd\u003e17.2\u003c/td\u003e\n      \u003ctd\u003e195.79\u003c/td\u003e\n    \u003c/tr\u003e\n    \u003ctr\u003e\n      \u003cth\u003e3\u003c/th\u003e\n      \u003ctd\u003e151.5\u003c/td\u003e\n      \u003ctd\u003e389.47\u003c/td\u003e\n    \u003c/tr\u003e\n    \u003ctr\u003e\n      \u003cth\u003e4\u003c/th\u003e\n      \u003ctd\u003e180.8\u003c/td\u003e\n      \u003ctd\u003e271.58\u003c/td\u003e\n    \u003c/tr\u003e\n  \u003c/tbody\u003e\n\u003c/table\u003e\n\u003c/div\u003e",
                        "text/plain": "      tv   sales\n0  230.1  465.26\n1   44.5  218.95\n2   17.2  195.79\n3  151.5  389.47\n4  180.8  271.58"
                    },
                    "execution_count": 2,
                    "metadata": {},
                    "output_type": "execute_result"
                }
            ],
            "source": [
                "# Read the advertising dataset as a pandas dataframe\n",
                "df = pd.read_csv('Advertising_adj.csv')\n",
                "\n",
                "# Take a quick look at the dataframe\n",
                "df.head()\n",
                ""
            ]
        },
        {
            "cell_type": "code",
            "execution_count": 7,
            "metadata": {},
            "outputs": [],
            "source": [
                "# Create two empty lists that will store the beta values\n",
                "beta0_list, beta1_list = [],[]\n",
                "\n",
                "# Choose the number of \"parallel\" Universes to generate \n",
                "# that many new versions of the dataset\n",
                "parallelUniverses = 100\n",
                "\n",
                "# Loop over the maximum number of parallel Universes\n",
                "for i in range(parallelUniverses):\n",
                "\n",
                "    # Call the RandomUniverse helper function with the dataframe\n",
                "    # read from the data file\n",
                "    df_new = RandomUniverse(df)\n",
                "\n",
                "    # Find the mean of the predictor values i.e. tv\n",
                "    xmean = df_new['tv'].mean()\n",
                "\n",
                "    # Find the mean of the response values i.e. sales\n",
                "    ymean = df_new['sales'].mean()\n",
                "\n",
                "    # Compute the analytical values of beta0 and beta1 using the \n",
                "    # equation given in the hints\n",
                "    beta1 = np.sum((df_new['tv'] - xmean) * (df_new['sales'] - ymean)) / np.sum((df_new['tv'] - xmean)**2)\n",
                "    beta0 = ymean - beta1 * xmean\n",
                "\n",
                "    # Append the calculated values of beta1 and beta0 to the appropriate lists\n",
                "    beta0_list.append(beta0)\n",
                "    beta1_list.append(beta1)\n",
                ""
            ]
        },
        {
            "cell_type": "code",
            "execution_count": 8,
            "metadata": {},
            "outputs": [],
            "source": [
                "### edTest(test_beta) ###\n",
                "\n",
                "# Compute the mean of the beta values\n",
                "beta0_mean = np.mean(beta0_list)\n",
                "beta1_mean = np.mean(beta1_list)\n",
                ""
            ]
        },
        {
            "cell_type": "code",
            "execution_count": 9,
            "metadata": {},
            "outputs": [
                {
                    "data": {
                        "image/png": "[encoded data removed]",
                        "text/plain": "\u003cFigure size 1800x800 with 2 Axes\u003e"
                    },
                    "metadata": {},
                    "output_type": "display_data"
                }
            ],
            "source": [
                "# Plot histograms of beta_0 and beta_1 using lists created above \n",
                "fig, ax = plt.subplots(1,2, figsize=(18,8))\n",
                "ax[0].hist(beta0_list)\n",
                "ax[1].hist(beta1_list)\n",
                "ax[0].set_xlabel('Beta 0')\n",
                "ax[1].set_xlabel('Beta 1')\n",
                "ax[0].set_ylabel('Frequency');\n",
                ""
            ]
        },
        {
            "attachments": {},
            "cell_type": "markdown",
            "metadata": {},
            "source": [
                "⏸ Increase the number of parallelUniverses. Which of the following do you observe?\n",
                "\n",
                "A. The range of the distribution increases.\n",
                "\n",
                "B. The frequency of points decreases.\n",
                "\n",
                "C. The range of the distribution decreases.\n",
                "\n",
                "D. There is no significant change."
            ]
        },
        {
            "cell_type": "code",
            "execution_count": 11,
            "metadata": {},
            "outputs": [],
            "source": [
                "### edTest(test_chow1) ###\n",
                "# Submit an answer choice as a string below \n",
                "# (Eg. if you choose option C, put 'C')\n",
                "answer1 = 'D'\n",
                ""
            ]
        }
    ]
}
